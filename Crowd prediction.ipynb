{
 "cells": [
  {
   "cell_type": "code",
   "execution_count": 48,
   "id": "5a0c717c-4634-42e4-8087-f46520e896f5",
   "metadata": {},
   "outputs": [],
   "source": [
    "import pymongo\n",
    "import pandas as pd\n",
    "from sklearn.model_selection import train_test_split\n",
    "from sklearn.ensemble import RandomForestRegressor\n",
    "from sklearn.metrics import mean_absolute_error\n",
    "from sklearn.preprocessing import LabelEncoder\n",
    "from datetime import datetime, timedelta\n",
    "import numpy as np\n",
    "import joblib"
   ]
  },
  {
   "cell_type": "code",
   "execution_count": 86,
   "id": "57832f0f-caec-45e7-be8c-393c1c517eb9",
   "metadata": {},
   "outputs": [
    {
     "name": "stdout",
     "output_type": "stream",
     "text": [
      "Model MAE: 954.72\n"
     ]
    },
    {
     "data": {
      "text/plain": [
       "['label_encoders.pkl']"
      ]
     },
     "execution_count": 86,
     "metadata": {},
     "output_type": "execute_result"
    }
   ],
   "source": [
    "# Connect to MongoDB and retrieve data\n",
    "client = pymongo.MongoClient(\"mongodb://localhost:27017/\")\n",
    "db = client[\"crowd_data\"]\n",
    "collection = db[\"events\"]\n",
    "\n",
    "# Get only past events with attendance data\n",
    "data = list(collection.find({\n",
    "    \"date\": {\"$lt\": datetime.now().strftime(\"%Y-%m-%d\")},\n",
    "    \"attendance\": {\"$exists\": True}\n",
    "}))\n",
    "\n",
    "# Convert to DataFrame\n",
    "df = pd.DataFrame(data)\n",
    "\n",
    "# Feature engineering\n",
    "df['day_of_week'] = pd.to_datetime(df['date']).dt.dayofweek\n",
    "df['month'] = pd.to_datetime(df['date']).dt.month\n",
    "df['is_weekend'] = df['day_of_week'].isin([5, 6]).astype(int)\n",
    "\n",
    "# Encode categorical variables\n",
    "label_encoders = {}\n",
    "for col in ['type', 'promotion', 'weather']:\n",
    "    le = LabelEncoder()\n",
    "    df[col] = le.fit_transform(df[col])\n",
    "    label_encoders[col] = le\n",
    "\n",
    "# Features and target\n",
    "features = ['type', 'capacity', 'ticket_price', 'promotion', 'weather', 'day_of_week', 'month', 'is_weekend']\n",
    "X = df[features]\n",
    "y = df['attendance']\n",
    "\n",
    "# Split data\n",
    "X_train, X_test, y_train, y_test = train_test_split(X, y, test_size=0.2, random_state=42)\n",
    "\n",
    "# Train model\n",
    "model = RandomForestRegressor(n_estimators=100, random_state=42)\n",
    "model.fit(X_train, y_train)\n",
    "\n",
    "# Evaluate\n",
    "y_pred = model.predict(X_test)\n",
    "mae = mean_absolute_error(y_test, y_pred)\n",
    "print(f\"Model MAE: {mae:.2f}\")\n",
    "\n",
    "# Save model and encoders\n",
    "joblib.dump(model, 'crowd_prediction_model.pkl')\n",
    "joblib.dump(label_encoders, 'label_encoders.pkl')"
   ]
  },
  {
   "cell_type": "code",
   "execution_count": 88,
   "id": "c7fddd4d-d7ff-4375-9034-9a9c3e84b88f",
   "metadata": {},
   "outputs": [],
   "source": [
    "def predict_crowd(event_details):\n",
    "    \"\"\"\n",
    "    Predict crowd for a new event\n",
    "    \n",
    "    Parameters:\n",
    "    event_details (dict): Dictionary containing event details with keys:\n",
    "        - type: concert, conference, tourist_spot, etc.\n",
    "        - date: YYYY-MM-DD\n",
    "        - capacity: integer\n",
    "        - ticket_price: float\n",
    "        - promotion: low, medium, high\n",
    "        - weather: sunny, rainy, cloudy, snowy (optional, defaults to sunny)\n",
    "        - location: string (optional)\n",
    "    \"\"\"\n",
    "    # Load model and encoders\n",
    "    model = joblib.load('crowd_prediction_model.pkl')\n",
    "    label_encoders = joblib.load('label_encoders.pkl')\n",
    "    \n",
    "    # Create DataFrame\n",
    "    df = pd.DataFrame([event_details])\n",
    "    \n",
    "    # Feature engineering\n",
    "    df['date'] = pd.to_datetime(df['date'])\n",
    "    df['day_of_week'] = df['date'].dt.dayofweek\n",
    "    df['month'] = df['date'].dt.month\n",
    "    df['is_weekend'] = df['day_of_week'].isin([5, 6]).astype(int)\n",
    "    \n",
    "    # Fill missing weather\n",
    "    if 'weather' not in df or df['weather'].isnull().any():\n",
    "        df['weather'] = 'sunny'\n",
    "    \n",
    "    # Encode categorical variables\n",
    "    for col in ['type', 'promotion', 'weather']:\n",
    "        le = label_encoders[col]\n",
    "        df[col] = le.transform(df[col])\n",
    "    \n",
    "    # Features\n",
    "    features = ['type', 'capacity', 'ticket_price', 'promotion', 'weather', 'day_of_week', 'month', 'is_weekend']\n",
    "    X = df[features]\n",
    "    \n",
    "    # Predict\n",
    "    prediction = model.predict(X)\n",
    "    \n",
    "    return int(prediction[0])"
   ]
  },
  {
   "cell_type": "code",
   "execution_count": 94,
   "id": "8e743611-0be4-4195-a576-e73be8aced6e",
   "metadata": {},
   "outputs": [
    {
     "name": "stdout",
     "output_type": "stream",
     "text": [
      "Predicted attendance: 5863\n"
     ]
    }
   ],
   "source": [
    "#capacity calc\n",
    "#price calc\n",
    "new_event = {\n",
    "        \"type\": \"concert\",\n",
    "        \"date\": \"2025-04-20\",\n",
    "        \"capacity\": 9000,\n",
    "        \"ticket_price\": 150,\n",
    "        \"promotion\": \"high\",\n",
    "        \"weather\": \"sunny\",\n",
    "        \"location\": \"New York\"\n",
    "    }\n",
    "predicted_attendance = predict_crowd(new_event)\n",
    "print(f\"Predicted attendance: {predicted_attendance}\")"
   ]
  }
 ],
 "metadata": {
  "kernelspec": {
   "display_name": "Python [conda env:base] *",
   "language": "python",
   "name": "conda-base-py"
  },
  "language_info": {
   "codemirror_mode": {
    "name": "ipython",
    "version": 3
   },
   "file_extension": ".py",
   "mimetype": "text/x-python",
   "name": "python",
   "nbconvert_exporter": "python",
   "pygments_lexer": "ipython3",
   "version": "3.12.7"
  }
 },
 "nbformat": 4,
 "nbformat_minor": 5
}
